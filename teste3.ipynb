{
  "nbformat": 4,
  "nbformat_minor": 0,
  "metadata": {
    "colab": {
      "provenance": [],
      "authorship_tag": "ABX9TyM1czrmqIb/vlCFvp3wpBPa",
      "include_colab_link": true
    },
    "kernelspec": {
      "name": "python3",
      "display_name": "Python 3"
    },
    "language_info": {
      "name": "python"
    }
  },
  "cells": [
    {
      "cell_type": "markdown",
      "metadata": {
        "id": "view-in-github",
        "colab_type": "text"
      },
      "source": [
        "<a href=\"https://colab.research.google.com/github/jefersonpereira/pwc_teste/blob/main/teste3.ipynb\" target=\"_parent\"><img src=\"https://colab.research.google.com/assets/colab-badge.svg\" alt=\"Open In Colab\"/></a>"
      ]
    },
    {
      "cell_type": "code",
      "execution_count": 4,
      "metadata": {
        "colab": {
          "base_uri": "https://localhost:8080/"
        },
        "id": "P7_rBpmpQAVq",
        "outputId": "f9df5960-c3b9-495e-ee39-29003c487268"
      },
      "outputs": [
        {
          "output_type": "stream",
          "name": "stdout",
          "text": [
            "Digite uma palavra: jeferson\n",
            "Maior palíndromo encontrado: efe\n"
          ]
        }
      ],
      "source": [
        "def eh_palindromo(string):\n",
        "    return string == string[::-1]\n",
        "\n",
        "def find_maior_palindromo(string):\n",
        "    maior_palindromo = \"\"\n",
        "    length = len(string)\n",
        "\n",
        "    for i in range(length):\n",
        "        for j in range(i+1, length+1):\n",
        "            substring = string[i:j]\n",
        "            if eh_palindromo(substring) and len(substring) > len(maior_palindromo):\n",
        "                maior_palindromo = substring\n",
        "\n",
        "    return maior_palindromo\n",
        "\n",
        "palavra = input(\"Digite uma palavra: \")\n",
        "maior_palindromo = find_maior_palindromo(palavra)\n",
        "\n",
        "print(\"Maior palíndromo encontrado:\", maior_palindromo)\n"
      ]
    }
  ]
}