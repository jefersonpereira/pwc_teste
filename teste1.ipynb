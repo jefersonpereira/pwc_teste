{
  "nbformat": 4,
  "nbformat_minor": 0,
  "metadata": {
    "colab": {
      "provenance": [],
      "authorship_tag": "ABX9TyMX00kw1GkAlPIws4N9K4dT",
      "include_colab_link": true
    },
    "kernelspec": {
      "name": "python3",
      "display_name": "Python 3"
    },
    "language_info": {
      "name": "python"
    }
  },
  "cells": [
    {
      "cell_type": "markdown",
      "metadata": {
        "id": "view-in-github",
        "colab_type": "text"
      },
      "source": [
        "<a href=\"https://colab.research.google.com/github/jefersonpereira/pwc_teste/blob/main/teste1.ipynb\" target=\"_parent\"><img src=\"https://colab.research.google.com/assets/colab-badge.svg\" alt=\"Open In Colab\"/></a>"
      ]
    },
    {
      "cell_type": "code",
      "execution_count": 1,
      "metadata": {
        "colab": {
          "base_uri": "https://localhost:8080/"
        },
        "id": "_EvqlEXxLbyx",
        "outputId": "7000b82d-80df-4485-b0a0-0abb731b1903"
      },
      "outputs": [
        {
          "output_type": "stream",
          "name": "stdout",
          "text": [
            "Digite uma palavra: JEFERSON\n",
            "Palavra invertida: NOSREFEJ\n"
          ]
        }
      ],
      "source": [
        "palavra = input(\"Digite uma palavra: \")\n",
        "palavra_invertida = palavra[::-1]\n",
        "print(\"Palavra invertida:\", palavra_invertida)\n"
      ]
    }
  ]
}