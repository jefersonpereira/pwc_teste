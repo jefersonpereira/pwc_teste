{
  "nbformat": 4,
  "nbformat_minor": 0,
  "metadata": {
    "colab": {
      "provenance": [],
      "authorship_tag": "ABX9TyOsY3qcubTn6UJRnicVxwGs",
      "include_colab_link": true
    },
    "kernelspec": {
      "name": "python3",
      "display_name": "Python 3"
    },
    "language_info": {
      "name": "python"
    }
  },
  "cells": [
    {
      "cell_type": "markdown",
      "metadata": {
        "id": "view-in-github",
        "colab_type": "text"
      },
      "source": [
        "<a href=\"https://colab.research.google.com/github/jefersonpereira/pwc_teste/blob/main/teste5.ipynb\" target=\"_parent\"><img src=\"https://colab.research.google.com/assets/colab-badge.svg\" alt=\"Open In Colab\"/></a>"
      ]
    },
    {
      "cell_type": "code",
      "execution_count": 1,
      "metadata": {
        "colab": {
          "base_uri": "https://localhost:8080/"
        },
        "id": "smL2tNa7R--Y",
        "outputId": "b888be25-41d6-4832-cb94-f17350609f7c"
      },
      "outputs": [
        {
          "output_type": "stream",
          "name": "stdout",
          "text": [
            "Digite uma palavra: Jeferson e hannah são amigos\n",
            "A palavra 'Jeferson e hannah são amigos' não é um anagrama de um palíndromo.\n"
          ]
        }
      ],
      "source": [
        "def eh_palindromo(palavra):\n",
        "    return palavra == palavra[::-1]\n",
        "\n",
        "def eh_anagrama_palindromo(palavra):\n",
        "    contagem_letras = {}\n",
        "    contagem_impares = 0\n",
        "\n",
        "    for letra in palavra:\n",
        "        if letra in contagem_letras:\n",
        "            contagem_letras[letra] += 1\n",
        "        else:\n",
        "            contagem_letras[letra] = 1\n",
        "\n",
        "    for contagem in contagem_letras.values():\n",
        "        if contagem % 2 != 0:\n",
        "            contagem_impares += 1\n",
        "\n",
        "    if contagem_impares <= 1:\n",
        "        return True\n",
        "    else:\n",
        "        return False\n",
        "\n",
        "entrada = input(\"Digite uma palavra: \")\n",
        "eh_anagrama_palindromo = eh_anagrama_palindromo(entrada)\n",
        "\n",
        "if eh_anagrama_palindromo:\n",
        "    print(\"A palavra '{}' é um anagrama de um palíndromo.\".format(entrada))\n",
        "else:\n",
        "    print(\"A palavra '{}' não é um anagrama de um palíndromo.\".format(entrada))\n"
      ]
    }
  ]
}