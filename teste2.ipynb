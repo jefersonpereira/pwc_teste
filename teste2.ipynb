{
  "nbformat": 4,
  "nbformat_minor": 0,
  "metadata": {
    "colab": {
      "provenance": [],
      "authorship_tag": "ABX9TyOnTz44MJXO/TOKVwMQ0am6",
      "include_colab_link": true
    },
    "kernelspec": {
      "name": "python3",
      "display_name": "Python 3"
    },
    "language_info": {
      "name": "python"
    }
  },
  "cells": [
    {
      "cell_type": "markdown",
      "metadata": {
        "id": "view-in-github",
        "colab_type": "text"
      },
      "source": [
        "<a href=\"https://colab.research.google.com/github/jefersonpereira/pwc_teste/blob/main/teste2.ipynb\" target=\"_parent\"><img src=\"https://colab.research.google.com/assets/colab-badge.svg\" alt=\"Open In Colab\"/></a>"
      ]
    },
    {
      "cell_type": "code",
      "execution_count": 2,
      "metadata": {
        "colab": {
          "base_uri": "https://localhost:8080/"
        },
        "id": "PZ6Aly95Pl9h",
        "outputId": "655df2d7-7d16-48dc-bbee-1f1cfe3baef9"
      },
      "outputs": [
        {
          "output_type": "stream",
          "name": "stdout",
          "text": [
            "Digite uma palavra: jeferson\n",
            "Palavra sem vogais: jfrsn\n"
          ]
        }
      ],
      "source": [
        "palavra = input(\"Digite uma palavra: \")\n",
        "\n",
        "vogais = ['a', 'e', 'i', 'o', 'u']\n",
        "palavra_sem_vogais = ''.join([letra for letra in palavra if letra.lower() not in vogais])\n",
        "\n",
        "print(\"Palavra sem vogais:\", palavra_sem_vogais)\n"
      ]
    }
  ]
}