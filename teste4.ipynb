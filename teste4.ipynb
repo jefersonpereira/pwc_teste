{
  "nbformat": 4,
  "nbformat_minor": 0,
  "metadata": {
    "colab": {
      "provenance": [],
      "authorship_tag": "ABX9TyN6uWdDJWtlyIcYja9P0B4J",
      "include_colab_link": true
    },
    "kernelspec": {
      "name": "python3",
      "display_name": "Python 3"
    },
    "language_info": {
      "name": "python"
    }
  },
  "cells": [
    {
      "cell_type": "markdown",
      "metadata": {
        "id": "view-in-github",
        "colab_type": "text"
      },
      "source": [
        "<a href=\"https://colab.research.google.com/github/jefersonpereira/pwc_teste/blob/main/teste4.ipynb\" target=\"_parent\"><img src=\"https://colab.research.google.com/assets/colab-badge.svg\" alt=\"Open In Colab\"/></a>"
      ]
    },
    {
      "cell_type": "code",
      "execution_count": 1,
      "metadata": {
        "colab": {
          "base_uri": "https://localhost:8080/"
        },
        "id": "36aqBejQRhsn",
        "outputId": "1d2054f5-1854-4af6-e58d-8b844abb61f7"
      },
      "outputs": [
        {
          "output_type": "stream",
          "name": "stdout",
          "text": [
            "Digite uma frase: Eu me chamo Jeferson PEREIRA\n",
            "Frase com as palavras capitalizadas: Eu Me Chamo Jeferson Pereira\n"
          ]
        }
      ],
      "source": [
        "def capitalizar_palavras(frase):\n",
        "    palavras = frase.split()\n",
        "    palavras_capitalizadas = [palavra.capitalize() for palavra in palavras]\n",
        "    return ' '.join(palavras_capitalizadas)\n",
        "\n",
        "entrada = input(\"Digite uma frase: \")\n",
        "saida = capitalizar_palavras(entrada)\n",
        "\n",
        "print(\"Frase com as palavras capitalizadas:\", saida)\n"
      ]
    }
  ]
}