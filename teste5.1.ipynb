{
  "nbformat": 4,
  "nbformat_minor": 0,
  "metadata": {
    "colab": {
      "provenance": [],
      "authorship_tag": "ABX9TyMD4c2Mszdt3/66nJUEdikQ",
      "include_colab_link": true
    },
    "kernelspec": {
      "name": "python3",
      "display_name": "Python 3"
    },
    "language_info": {
      "name": "python"
    }
  },
  "cells": [
    {
      "cell_type": "markdown",
      "metadata": {
        "id": "view-in-github",
        "colab_type": "text"
      },
      "source": [
        "<a href=\"https://colab.research.google.com/github/jefersonpereira/pwc_teste/blob/main/teste5.1.ipynb\" target=\"_parent\"><img src=\"https://colab.research.google.com/assets/colab-badge.svg\" alt=\"Open In Colab\"/></a>"
      ]
    },
    {
      "cell_type": "code",
      "execution_count": 2,
      "metadata": {
        "colab": {
          "base_uri": "https://localhost:8080/"
        },
        "id": "smL2tNa7R--Y",
        "outputId": "b80a0afb-eacb-4732-a8b1-9ae6c4baff9e"
      },
      "outputs": [
        {
          "output_type": "stream",
          "name": "stdout",
          "text": [
            "Digite uma frase: jeferson e hanna são amigos e tem uma arara cada um.\n",
            "Palavra: jeferson\n",
            "É um palíndromo: False\n",
            "É um anagrama de um palíndromo: False\n",
            "\n",
            "Palavra: e\n",
            "É um palíndromo: True\n",
            "É um anagrama de um palíndromo: True\n",
            "\n",
            "Palavra: hanna\n",
            "É um palíndromo: False\n",
            "É um anagrama de um palíndromo: True\n",
            "\n",
            "Palavra: são\n",
            "É um palíndromo: False\n",
            "É um anagrama de um palíndromo: False\n",
            "\n",
            "Palavra: amigos\n",
            "É um palíndromo: False\n",
            "É um anagrama de um palíndromo: False\n",
            "\n",
            "Palavra: e\n",
            "É um palíndromo: True\n",
            "É um anagrama de um palíndromo: True\n",
            "\n",
            "Palavra: tem\n",
            "É um palíndromo: False\n",
            "É um anagrama de um palíndromo: False\n",
            "\n",
            "Palavra: uma\n",
            "É um palíndromo: False\n",
            "É um anagrama de um palíndromo: False\n",
            "\n",
            "Palavra: arara\n",
            "É um palíndromo: True\n",
            "É um anagrama de um palíndromo: True\n",
            "\n",
            "Palavra: cada\n",
            "É um palíndromo: False\n",
            "É um anagrama de um palíndromo: False\n",
            "\n",
            "Palavra: um.\n",
            "É um palíndromo: False\n",
            "É um anagrama de um palíndromo: False\n",
            "\n"
          ]
        }
      ],
      "source": [
        "def eh_palindromo(palavra):\n",
        "    return palavra == palavra[::-1]\n",
        "\n",
        "def eh_anagrama_palindromo(palavra):\n",
        "    contagem_letras = {}\n",
        "    contagem_impares = 0\n",
        "\n",
        "    for letra in palavra:\n",
        "        if letra in contagem_letras:\n",
        "            contagem_letras[letra] += 1\n",
        "        else:\n",
        "            contagem_letras[letra] = 1\n",
        "\n",
        "    for contagem in contagem_letras.values():\n",
        "        if contagem % 2 != 0:\n",
        "            contagem_impares += 1\n",
        "\n",
        "    if contagem_impares <= 1:\n",
        "        return True\n",
        "    else:\n",
        "        return False\n",
        "\n",
        "frase = input(\"Digite uma frase: \")\n",
        "palavras = frase.split()\n",
        "\n",
        "for palavra in palavras:\n",
        "    anagrama_palindromo = eh_anagrama_palindromo(palavra)\n",
        "    palindromo = eh_palindromo(palavra)\n",
        "\n",
        "    print(\"Palavra:\", palavra)\n",
        "    print(\"É um palíndromo:\", palindromo)\n",
        "    print(\"É um anagrama de um palíndromo:\", anagrama_palindromo)\n",
        "    print()\n"
      ]
    }
  ]
}